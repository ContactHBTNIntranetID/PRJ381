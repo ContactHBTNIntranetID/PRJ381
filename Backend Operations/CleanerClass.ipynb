{
 "cells": [
  {
   "cell_type": "markdown",
   "id": "89e1db3a",
   "metadata": {},
   "source": [
    "# Displaying Data"
   ]
  },
  {
   "cell_type": "markdown",
   "id": "b7bb7570",
   "metadata": {},
   "source": [
    "#### 1. Listing all collections (Tables) within the database"
   ]
  },
  {
   "cell_type": "code",
   "execution_count": 30,
   "id": "cc63a567",
   "metadata": {},
   "outputs": [
    {
     "name": "stdout",
     "output_type": "stream",
     "text": [
      "Collections in 'PRJ382_DB':\n",
      "- your_collection_name\n",
      "- ESP32_data\n"
     ]
    }
   ],
   "source": [
    "from Connections import list_collections\n",
    "list_collections()"
   ]
  },
  {
   "cell_type": "markdown",
   "id": "94b5da3e",
   "metadata": {},
   "source": [
    "#### 2. Displaying Data in Tabular format"
   ]
  },
  {
   "cell_type": "code",
   "execution_count": 31,
   "id": "6b7a76da",
   "metadata": {},
   "outputs": [
    {
     "name": "stdout",
     "output_type": "stream",
     "text": [
      "Documents in collection 'ESP32_data':\n",
      "+--------------------------+----------------------+-----------------+------------------------+-----------------+--------------------+----------------+---------------+--------------------------------------------------+------------------+\n",
      "| _id                      | timestamp            | device_id       |   solar_irradiance_wm2 |   temperature_c |   humidity_percent |   pressure_hpa |   rainfall_mm | gps                                              |   lte_signal_dbm |\n",
      "+==========================+======================+=================+========================+=================+====================+================+===============+==================================================+==================+\n",
      "| 6896e1e1ec8614bff080ebfd | 2025-08-08T10:00:00Z | ESP32-WROOM-001 |                  908.5 |            25.2 |                 52 |         1013   |          2.16 | {'lat': -25.7461, 'lon': 28.1881, 'alt_m': 1340} |              -68 |\n",
      "+--------------------------+----------------------+-----------------+------------------------+-----------------+--------------------+----------------+---------------+--------------------------------------------------+------------------+\n",
      "| 6896e1e1ec8614bff080ebfe | 2025-08-08T10:01:00Z | ESP32-WROOM-001 |                  935.6 |            25.6 |                 59 |         1011.4 |          4.26 | {'lat': -25.7461, 'lon': 28.1881, 'alt_m': 1340} |              -62 |\n",
      "+--------------------------+----------------------+-----------------+------------------------+-----------------+--------------------+----------------+---------------+--------------------------------------------------+------------------+\n",
      "| 6896e1e1ec8614bff080ebff | 2025-08-08T10:02:00Z | ESP32-WROOM-001 |                  855.3 |            27.9 |                 56 |         1010.8 |          0.44 | {'lat': -25.7461, 'lon': 28.1881, 'alt_m': 1340} |              -63 |\n",
      "+--------------------------+----------------------+-----------------+------------------------+-----------------+--------------------+----------------+---------------+--------------------------------------------------+------------------+\n",
      "| 6896e1e1ec8614bff080ec00 | 2025-08-08T10:03:00Z | ESP32-WROOM-001 |                  842.7 |            27.9 |                 60 |         1012.9 |          0.65 | {'lat': -25.7461, 'lon': 28.1881, 'alt_m': 1340} |              -60 |\n",
      "+--------------------------+----------------------+-----------------+------------------------+-----------------+--------------------+----------------+---------------+--------------------------------------------------+------------------+\n",
      "| 6896e1e1ec8614bff080ec01 | 2025-08-08T10:04:00Z | ESP32-WROOM-001 |                  896.8 |            26.3 |                 57 |         1011   |          1.29 | {'lat': -25.7461, 'lon': 28.1881, 'alt_m': 1340} |              -62 |\n",
      "+--------------------------+----------------------+-----------------+------------------------+-----------------+--------------------+----------------+---------------+--------------------------------------------------+------------------+\n",
      "| 6896e1e1ec8614bff080ec02 | 2025-08-08T10:05:00Z | ESP32-WROOM-001 |                  900.8 |            27   |                 48 |         1010.5 |          1.33 | {'lat': -25.7461, 'lon': 28.1881, 'alt_m': 1340} |              -68 |\n",
      "+--------------------------+----------------------+-----------------+------------------------+-----------------+--------------------+----------------+---------------+--------------------------------------------------+------------------+\n",
      "| 6896e1e1ec8614bff080ec03 | 2025-08-08T10:06:00Z | ESP32-WROOM-001 |                  827   |            27.9 |                 51 |         1012.4 |          3.47 | {'lat': -25.7461, 'lon': 28.1881, 'alt_m': 1340} |              -66 |\n",
      "+--------------------------+----------------------+-----------------+------------------------+-----------------+--------------------+----------------+---------------+--------------------------------------------------+------------------+\n",
      "| 6896e1e1ec8614bff080ec04 | 2025-08-08T10:07:00Z | ESP32-WROOM-001 |                  845.4 |            27.6 |                 57 |         1012.7 |          2.54 | {'lat': -25.7461, 'lon': 28.1881, 'alt_m': 1340} |              -60 |\n",
      "+--------------------------+----------------------+-----------------+------------------------+-----------------+--------------------+----------------+---------------+--------------------------------------------------+------------------+\n",
      "| 6896e1e1ec8614bff080ec05 | 2025-08-08T10:08:00Z | ESP32-WROOM-001 |                  982.1 |            27.9 |                 51 |         1010.7 |          0.05 | {'lat': -25.7461, 'lon': 28.1881, 'alt_m': 1340} |              -67 |\n",
      "+--------------------------+----------------------+-----------------+------------------------+-----------------+--------------------+----------------+---------------+--------------------------------------------------+------------------+\n",
      "| 6896e1e1ec8614bff080ec06 | 2025-08-08T10:09:00Z | ESP32-WROOM-001 |                  899   |            27.3 |                 49 |         1010.1 |          2.22 | {'lat': -25.7461, 'lon': 28.1881, 'alt_m': 1340} |              -70 |\n",
      "+--------------------------+----------------------+-----------------+------------------------+-----------------+--------------------+----------------+---------------+--------------------------------------------------+------------------+\n"
     ]
    }
   ],
   "source": [
    "from Connections import show_documents\n",
    "show_documents(\"ESP32_data\" , 10)"
   ]
  },
  {
   "cell_type": "markdown",
   "id": "a9a87dff",
   "metadata": {},
   "source": [
    "#### 3. Changing the displayed data into a dataframe for better calculating"
   ]
  },
  {
   "cell_type": "code",
   "execution_count": 11,
   "id": "0eb9f838",
   "metadata": {},
   "outputs": [
    {
     "data": {
      "text/html": [
       "<div>\n",
       "<style scoped>\n",
       "    .dataframe tbody tr th:only-of-type {\n",
       "        vertical-align: middle;\n",
       "    }\n",
       "\n",
       "    .dataframe tbody tr th {\n",
       "        vertical-align: top;\n",
       "    }\n",
       "\n",
       "    .dataframe thead th {\n",
       "        text-align: right;\n",
       "    }\n",
       "</style>\n",
       "<table border=\"1\" class=\"dataframe\">\n",
       "  <thead>\n",
       "    <tr style=\"text-align: right;\">\n",
       "      <th></th>\n",
       "      <th>_id</th>\n",
       "      <th>timestamp</th>\n",
       "      <th>device_id</th>\n",
       "      <th>solar_irradiance_wm2</th>\n",
       "      <th>temperature_c</th>\n",
       "      <th>humidity_percent</th>\n",
       "      <th>pressure_hpa</th>\n",
       "      <th>rainfall_mm</th>\n",
       "      <th>gps</th>\n",
       "      <th>lte_signal_dbm</th>\n",
       "    </tr>\n",
       "  </thead>\n",
       "  <tbody>\n",
       "    <tr>\n",
       "      <th>0</th>\n",
       "      <td>6896e1e1ec8614bff080ebfd</td>\n",
       "      <td>2025-08-08T10:00:00Z</td>\n",
       "      <td>ESP32-WROOM-001</td>\n",
       "      <td>908.5</td>\n",
       "      <td>25.2</td>\n",
       "      <td>52</td>\n",
       "      <td>1013.0</td>\n",
       "      <td>2.16</td>\n",
       "      <td>{'lat': -25.7461, 'lon': 28.1881, 'alt_m': 1340}</td>\n",
       "      <td>-68</td>\n",
       "    </tr>\n",
       "    <tr>\n",
       "      <th>1</th>\n",
       "      <td>6896e1e1ec8614bff080ebfe</td>\n",
       "      <td>2025-08-08T10:01:00Z</td>\n",
       "      <td>ESP32-WROOM-001</td>\n",
       "      <td>935.6</td>\n",
       "      <td>25.6</td>\n",
       "      <td>59</td>\n",
       "      <td>1011.4</td>\n",
       "      <td>4.26</td>\n",
       "      <td>{'lat': -25.7461, 'lon': 28.1881, 'alt_m': 1340}</td>\n",
       "      <td>-62</td>\n",
       "    </tr>\n",
       "    <tr>\n",
       "      <th>2</th>\n",
       "      <td>6896e1e1ec8614bff080ebff</td>\n",
       "      <td>2025-08-08T10:02:00Z</td>\n",
       "      <td>ESP32-WROOM-001</td>\n",
       "      <td>855.3</td>\n",
       "      <td>27.9</td>\n",
       "      <td>56</td>\n",
       "      <td>1010.8</td>\n",
       "      <td>0.44</td>\n",
       "      <td>{'lat': -25.7461, 'lon': 28.1881, 'alt_m': 1340}</td>\n",
       "      <td>-63</td>\n",
       "    </tr>\n",
       "    <tr>\n",
       "      <th>3</th>\n",
       "      <td>6896e1e1ec8614bff080ec00</td>\n",
       "      <td>2025-08-08T10:03:00Z</td>\n",
       "      <td>ESP32-WROOM-001</td>\n",
       "      <td>842.7</td>\n",
       "      <td>27.9</td>\n",
       "      <td>60</td>\n",
       "      <td>1012.9</td>\n",
       "      <td>0.65</td>\n",
       "      <td>{'lat': -25.7461, 'lon': 28.1881, 'alt_m': 1340}</td>\n",
       "      <td>-60</td>\n",
       "    </tr>\n",
       "    <tr>\n",
       "      <th>4</th>\n",
       "      <td>6896e1e1ec8614bff080ec01</td>\n",
       "      <td>2025-08-08T10:04:00Z</td>\n",
       "      <td>ESP32-WROOM-001</td>\n",
       "      <td>896.8</td>\n",
       "      <td>26.3</td>\n",
       "      <td>57</td>\n",
       "      <td>1011.0</td>\n",
       "      <td>1.29</td>\n",
       "      <td>{'lat': -25.7461, 'lon': 28.1881, 'alt_m': 1340}</td>\n",
       "      <td>-62</td>\n",
       "    </tr>\n",
       "  </tbody>\n",
       "</table>\n",
       "</div>"
      ],
      "text/plain": [
       "                        _id             timestamp        device_id  \\\n",
       "0  6896e1e1ec8614bff080ebfd  2025-08-08T10:00:00Z  ESP32-WROOM-001   \n",
       "1  6896e1e1ec8614bff080ebfe  2025-08-08T10:01:00Z  ESP32-WROOM-001   \n",
       "2  6896e1e1ec8614bff080ebff  2025-08-08T10:02:00Z  ESP32-WROOM-001   \n",
       "3  6896e1e1ec8614bff080ec00  2025-08-08T10:03:00Z  ESP32-WROOM-001   \n",
       "4  6896e1e1ec8614bff080ec01  2025-08-08T10:04:00Z  ESP32-WROOM-001   \n",
       "\n",
       "   solar_irradiance_wm2  temperature_c  humidity_percent  pressure_hpa  \\\n",
       "0                 908.5           25.2                52        1013.0   \n",
       "1                 935.6           25.6                59        1011.4   \n",
       "2                 855.3           27.9                56        1010.8   \n",
       "3                 842.7           27.9                60        1012.9   \n",
       "4                 896.8           26.3                57        1011.0   \n",
       "\n",
       "   rainfall_mm                                               gps  \\\n",
       "0         2.16  {'lat': -25.7461, 'lon': 28.1881, 'alt_m': 1340}   \n",
       "1         4.26  {'lat': -25.7461, 'lon': 28.1881, 'alt_m': 1340}   \n",
       "2         0.44  {'lat': -25.7461, 'lon': 28.1881, 'alt_m': 1340}   \n",
       "3         0.65  {'lat': -25.7461, 'lon': 28.1881, 'alt_m': 1340}   \n",
       "4         1.29  {'lat': -25.7461, 'lon': 28.1881, 'alt_m': 1340}   \n",
       "\n",
       "   lte_signal_dbm  \n",
       "0             -68  \n",
       "1             -62  \n",
       "2             -63  \n",
       "3             -60  \n",
       "4             -62  "
      ]
     },
     "execution_count": 11,
     "metadata": {},
     "output_type": "execute_result"
    }
   ],
   "source": [
    "from Connections import client, DEFAULT_DB  # import these so you can access MongoDB\n",
    "import pandas as pd\n",
    "\n",
    "def show_documents_df(collection_name, limit=None):\n",
    "    db = client[DEFAULT_DB]\n",
    "    collection = db[collection_name]\n",
    "    cursor = collection.find()\n",
    "    if limit:\n",
    "        cursor = cursor.limit(limit)\n",
    "    documents = list(cursor)\n",
    "    if not documents:\n",
    "        print(f\"No documents found in collection '{collection_name}'.\")\n",
    "        return pd.DataFrame()\n",
    "    for doc in documents:\n",
    "        if '_id' in doc:\n",
    "            doc['_id'] = str(doc['_id'])\n",
    "    df = pd.DataFrame(documents)\n",
    "    return df\n",
    "\n",
    "# Now call your new function\n",
    "df = show_documents_df(\"ESP32_data\", 50)\n",
    "df.head()"
   ]
  },
  {
   "cell_type": "markdown",
   "id": "cd01c2ce",
   "metadata": {},
   "source": [
    "# Cleaning The Table"
   ]
  },
  {
   "cell_type": "markdown",
   "id": "d7edc929",
   "metadata": {},
   "source": [
    "### 1. Handling Missing Data"
   ]
  },
  {
   "cell_type": "code",
   "execution_count": 22,
   "id": "ddf24c75",
   "metadata": {},
   "outputs": [
    {
     "name": "stdout",
     "output_type": "stream",
     "text": [
      "Filled missing numeric values with median for columns:\n",
      "Index(['solar_irradiance_wm2', 'temperature_c', 'humidity_percent',\n",
      "       'pressure_hpa', 'rainfall_mm', 'lte_signal_dbm'],\n",
      "      dtype='object')\n",
      "\n",
      "Remaining missing values after fill (should be zero for numeric columns):\n",
      "solar_irradiance_wm2    0\n",
      "temperature_c           0\n",
      "humidity_percent        0\n",
      "pressure_hpa            0\n",
      "rainfall_mm             0\n",
      "lte_signal_dbm          0\n",
      "dtype: int64\n"
     ]
    }
   ],
   "source": [
    "# Fill missing numeric data with median values only (ignore non-numeric columns)\n",
    "\n",
    "numeric_cols = df.select_dtypes(include='number').columns\n",
    "df_filled = df.copy()\n",
    "df_filled[numeric_cols] = df_filled[numeric_cols].fillna(df_filled[numeric_cols].median())\n",
    "\n",
    "print(\"Filled missing numeric values with median for columns:\")\n",
    "print(numeric_cols)\n",
    "\n",
    "# Optionally show how many missing remain\n",
    "print(\"\\nRemaining missing values after fill (should be zero for numeric columns):\")\n",
    "print(df_filled[numeric_cols].isna().sum())"
   ]
  },
  {
   "cell_type": "markdown",
   "id": "fca6fecd",
   "metadata": {},
   "source": [
    "### 2. Dealing with Duplicate Values"
   ]
  },
  {
   "cell_type": "code",
   "execution_count": 25,
   "id": "8082d000",
   "metadata": {},
   "outputs": [
    {
     "name": "stdout",
     "output_type": "stream",
     "text": [
      "Columns with unhashable data types that will be excluded from duplicates check:\n",
      "['gps']\n",
      "Number of duplicates (excluding unhashable columns): 0\n",
      "Rows before dropping duplicates: 50\n",
      "Rows after dropping duplicates: 50\n"
     ]
    }
   ],
   "source": [
    "# Identify columns with unhashable data (like dicts or lists)\n",
    "unhashable_cols = [col for col in df.columns if df[col].apply(lambda x: isinstance(x, (dict, list))).any()]\n",
    "\n",
    "print(\"Columns with unhashable data types that will be excluded from duplicates check:\")\n",
    "print(unhashable_cols)\n",
    "\n",
    "df_subset = df.drop(columns=unhashable_cols)\n",
    "\n",
    "num_duplicates = df_subset.duplicated().sum()\n",
    "print(f\"Number of duplicates (excluding unhashable columns): {num_duplicates}\")\n",
    "\n",
    "\n",
    "df_clean = df.loc[~df_subset.duplicated()].copy()\n",
    "\n",
    "print(f\"Rows before dropping duplicates: {len(df)}\")\n",
    "print(f\"Rows after dropping duplicates: {len(df_clean)}\")\n",
    "\n",
    "# Replace original df with cleaned one if you want\n",
    "df = df_clean"
   ]
  },
  {
   "cell_type": "markdown",
   "id": "d549ded3",
   "metadata": {},
   "source": [
    "#### 3. Handling Outliers"
   ]
  },
  {
   "cell_type": "code",
   "execution_count": 26,
   "id": "48104ebd",
   "metadata": {},
   "outputs": [],
   "source": [
    "def remove_outliers_iqr(df, col):\n",
    "    Q1 = df[col].quantile(0.25)\n",
    "    Q3 = df[col].quantile(0.75)\n",
    "    IQR = Q3 - Q1\n",
    "    lower_bound = Q1 - 1.5 * IQR\n",
    "    upper_bound = Q3 + 1.5 * IQR\n",
    "    return df[(df[col] >= lower_bound) & (df[col] <= upper_bound)]\n",
    "\n",
    "df = remove_outliers_iqr(df, 'temperature_c')"
   ]
  },
  {
   "cell_type": "markdown",
   "id": "ff609d4f",
   "metadata": {},
   "source": [
    "#### 4. Handling Impossible Values"
   ]
  },
  {
   "cell_type": "code",
   "execution_count": null,
   "id": "1a837764",
   "metadata": {},
   "outputs": [],
   "source": [
    "#Rainfall can never be a negative number and humidity percentage can never be more than 100 or less than 0\n",
    "df = df[df['rainfall_mm'] >= 0]\n",
    "df = df[(df['humidity_percent'] >= 0) & (df['humidity_percent'] <= 100)]"
   ]
  },
  {
   "cell_type": "markdown",
   "id": "94fef731",
   "metadata": {},
   "source": [
    "#### 5. Sync MongoDB with DataFrame"
   ]
  },
  {
   "cell_type": "code",
   "execution_count": 29,
   "id": "e9416d63",
   "metadata": {},
   "outputs": [
    {
     "name": "stdout",
     "output_type": "stream",
     "text": [
      "Number of documents deleted: 50\n",
      "Number of documents inserted: 50\n",
      "Number of documents changed: 0\n"
     ]
    }
   ],
   "source": [
    "from bson import ObjectId\n",
    "\n",
    "db = client[DEFAULT_DB]\n",
    "collection = db['your_collection_name']  # replace with your actual collection name\n",
    "\n",
    "# Count documents before deleting\n",
    "count_before = collection.count_documents({})\n",
    "\n",
    "# Convert _id strings back to ObjectId if needed\n",
    "if '_id' in df.columns:\n",
    "    df['_id'] = df['_id'].apply(lambda x: ObjectId(x) if isinstance(x, str) else x)\n",
    "\n",
    "# Delete all existing documents\n",
    "collection.delete_many({})\n",
    "\n",
    "# Convert DataFrame to dict records\n",
    "records = df.to_dict(orient='records')\n",
    "\n",
    "# Insert cleaned records\n",
    "insert_result = collection.insert_many(records)\n",
    "\n",
    "count_after = len(insert_result.inserted_ids)\n",
    "\n",
    "print(f\"Number of documents deleted: {count_before}\")\n",
    "print(f\"Number of documents inserted: {count_after}\")\n",
    "print(f\"Number of documents changed: {abs(count_after - count_before)}\")"
   ]
  }
 ],
 "metadata": {
  "kernelspec": {
   "display_name": "base",
   "language": "python",
   "name": "python3"
  },
  "language_info": {
   "codemirror_mode": {
    "name": "ipython",
    "version": 3
   },
   "file_extension": ".py",
   "mimetype": "text/x-python",
   "name": "python",
   "nbconvert_exporter": "python",
   "pygments_lexer": "ipython3",
   "version": "3.12.7"
  }
 },
 "nbformat": 4,
 "nbformat_minor": 5
}
