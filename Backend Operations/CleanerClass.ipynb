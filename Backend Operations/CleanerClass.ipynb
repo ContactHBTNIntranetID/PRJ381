{
 "cells": [
  {
   "cell_type": "markdown",
   "id": "89e1db3a",
   "metadata": {},
   "source": [
    "# Displaying Data"
   ]
  },
  {
   "cell_type": "markdown",
   "id": "b7bb7570",
   "metadata": {},
   "source": [
    "#### 1. Listing all collections (Tables) within the database"
   ]
  },
  {
   "cell_type": "code",
   "execution_count": null,
   "id": "cc63a567",
   "metadata": {},
   "outputs": [
    {
     "ename": "",
     "evalue": "",
     "output_type": "error",
     "traceback": [
      "\u001b[1;31mRunning cells with 'Python 3.13.6' requires the ipykernel package.\n",
      "\u001b[1;31m<a href='command:jupyter.createPythonEnvAndSelectController'>Create a Python Environment</a> with the required packages."
     ]
    }
   ],
   "source": [
    "from Connections import list_collections\n",
    "list_collections()"
   ]
  },
  {
   "cell_type": "markdown",
   "id": "94b5da3e",
   "metadata": {},
   "source": [
    "#### 2. Displaying Data in Tabular format"
   ]
  },
  {
   "cell_type": "code",
   "execution_count": null,
   "id": "6b7a76da",
   "metadata": {},
   "outputs": [],
   "source": [
    "from Connections import show_documents\n",
    "show_documents(\"ESP32_data\" , 10)"
   ]
  },
  {
   "cell_type": "markdown",
   "id": "a9a87dff",
   "metadata": {},
   "source": [
    "#### 3. Changing the displayed data into a dataframe for better calculating"
   ]
  },
  {
   "cell_type": "code",
   "execution_count": null,
   "id": "0eb9f838",
   "metadata": {},
   "outputs": [],
   "source": [
    "from Connections import client, DEFAULT_DB  # import these so you can access MongoDB\n",
    "import pandas as pd\n",
    "\n",
    "def show_documents_df(collection_name, limit=None):\n",
    "    db = client[DEFAULT_DB]\n",
    "    collection = db[collection_name]\n",
    "    cursor = collection.find()\n",
    "    if limit:\n",
    "        cursor = cursor.limit(limit)\n",
    "    documents = list(cursor)\n",
    "    if not documents:\n",
    "        print(f\"No documents found in collection '{collection_name}'.\")\n",
    "        return pd.DataFrame()\n",
    "    for doc in documents:\n",
    "        if '_id' in doc:\n",
    "            doc['_id'] = str(doc['_id'])\n",
    "    df = pd.DataFrame(documents)\n",
    "    return df\n",
    "\n",
    "# Now call your new function\n",
    "df = show_documents_df(\"ESP32_data\", 50)\n",
    "df.head()"
   ]
  },
  {
   "cell_type": "markdown",
   "id": "cd01c2ce",
   "metadata": {},
   "source": [
    "# Cleaning The Table"
   ]
  },
  {
   "cell_type": "markdown",
   "id": "d7edc929",
   "metadata": {},
   "source": [
    "### 1. Handling Missing Data"
   ]
  },
  {
   "cell_type": "code",
   "execution_count": null,
   "id": "ddf24c75",
   "metadata": {},
   "outputs": [],
   "source": [
    "# Fill missing numeric data with median values only (ignore non-numeric columns)\n",
    "\n",
    "numeric_cols = df.select_dtypes(include='number').columns\n",
    "df_filled = df.copy()\n",
    "df_filled[numeric_cols] = df_filled[numeric_cols].fillna(df_filled[numeric_cols].median())\n",
    "\n",
    "print(\"Filled missing numeric values with median for columns:\")\n",
    "print(numeric_cols)\n",
    "\n",
    "# Optionally show how many missing remain\n",
    "print(\"\\nRemaining missing values after fill (should be zero for numeric columns):\")\n",
    "print(df_filled[numeric_cols].isna().sum())"
   ]
  },
  {
   "cell_type": "markdown",
   "id": "fca6fecd",
   "metadata": {},
   "source": [
    "### 2. Dealing with Duplicate Values"
   ]
  },
  {
   "cell_type": "code",
   "execution_count": null,
   "id": "8082d000",
   "metadata": {},
   "outputs": [],
   "source": [
    "# Identify columns with unhashable data (like dicts or lists)\n",
    "unhashable_cols = [col for col in df.columns if df[col].apply(lambda x: isinstance(x, (dict, list))).any()]\n",
    "\n",
    "print(\"Columns with unhashable data types that will be excluded from duplicates check:\")\n",
    "print(unhashable_cols)\n",
    "\n",
    "df_subset = df.drop(columns=unhashable_cols)\n",
    "\n",
    "num_duplicates = df_subset.duplicated().sum()\n",
    "print(f\"Number of duplicates (excluding unhashable columns): {num_duplicates}\")\n",
    "\n",
    "\n",
    "df_clean = df.loc[~df_subset.duplicated()].copy()\n",
    "\n",
    "print(f\"Rows before dropping duplicates: {len(df)}\")\n",
    "print(f\"Rows after dropping duplicates: {len(df_clean)}\")\n",
    "\n",
    "# Replace original df with cleaned one if you want\n",
    "df = df_clean"
   ]
  },
  {
   "cell_type": "markdown",
   "id": "d549ded3",
   "metadata": {},
   "source": [
    "#### 3. Handling Outliers"
   ]
  },
  {
   "cell_type": "code",
   "execution_count": null,
   "id": "48104ebd",
   "metadata": {},
   "outputs": [],
   "source": [
    "def remove_outliers_iqr(df, col):\n",
    "    Q1 = df[col].quantile(0.25)\n",
    "    Q3 = df[col].quantile(0.75)\n",
    "    IQR = Q3 - Q1\n",
    "    lower_bound = Q1 - 1.5 * IQR\n",
    "    upper_bound = Q3 + 1.5 * IQR\n",
    "    return df[(df[col] >= lower_bound) & (df[col] <= upper_bound)]\n",
    "\n",
    "df = remove_outliers_iqr(df, 'temperature_c')"
   ]
  },
  {
   "cell_type": "markdown",
   "id": "ff609d4f",
   "metadata": {},
   "source": [
    "#### 4. Handling Impossible Values"
   ]
  },
  {
   "cell_type": "code",
   "execution_count": null,
   "id": "1a837764",
   "metadata": {},
   "outputs": [],
   "source": [
    "#Rainfall can never be a negative number and humidity percentage can never be more than 100 or less than 0\n",
    "df = df[df['rainfall_mm'] >= 0]\n",
    "df = df[(df['humidity_percent'] >= 0) & (df['humidity_percent'] <= 100)]"
   ]
  },
  {
   "cell_type": "markdown",
   "id": "94fef731",
   "metadata": {},
   "source": [
    "#### 5. Sync MongoDB with DataFrame"
   ]
  },
  {
   "cell_type": "code",
   "execution_count": null,
   "id": "e9416d63",
   "metadata": {},
   "outputs": [],
   "source": [
    "from bson import ObjectId\n",
    "\n",
    "db = client[DEFAULT_DB]\n",
    "collection = db['your_collection_name']  # replace with your actual collection name\n",
    "\n",
    "# Count documents before deleting\n",
    "count_before = collection.count_documents({})\n",
    "\n",
    "# Convert _id strings back to ObjectId if needed\n",
    "if '_id' in df.columns:\n",
    "    df['_id'] = df['_id'].apply(lambda x: ObjectId(x) if isinstance(x, str) else x)\n",
    "\n",
    "# Delete all existing documents\n",
    "collection.delete_many({})\n",
    "\n",
    "# Convert DataFrame to dict records\n",
    "records = df.to_dict(orient='records')\n",
    "\n",
    "# Insert cleaned records\n",
    "insert_result = collection.insert_many(records)\n",
    "\n",
    "count_after = len(insert_result.inserted_ids)\n",
    "\n",
    "print(f\"Number of documents deleted: {count_before}\")\n",
    "print(f\"Number of documents inserted: {count_after}\")\n",
    "print(f\"Number of documents changed: {abs(count_after - count_before)}\")"
   ]
  },
  {
   "cell_type": "code",
   "execution_count": null,
   "id": "4aa56f1e",
   "metadata": {},
   "outputs": [],
   "source": [
    "collection_name = \"ESP32_data\"\n",
    "show_documents(collection_name)"
   ]
  }
 ],
 "metadata": {
  "kernelspec": {
   "display_name": "base",
   "language": "python",
   "name": "python3"
  },
  "language_info": {
   "codemirror_mode": {
    "name": "ipython",
    "version": 3
   },
   "file_extension": ".py",
   "mimetype": "text/x-python",
   "name": "python",
   "nbconvert_exporter": "python",
   "pygments_lexer": "ipython3",
   "version": "3.12.7"
  }
 },
 "nbformat": 4,
 "nbformat_minor": 5
}
